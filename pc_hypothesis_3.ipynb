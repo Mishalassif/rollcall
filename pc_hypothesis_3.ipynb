{
 "cells": [
  {
   "cell_type": "code",
   "execution_count": 1,
   "metadata": {},
   "outputs": [],
   "source": [
    "import numpy as np"
   ]
  },
  {
   "cell_type": "markdown",
   "metadata": {},
   "source": [
    "parameters:\n",
    "- n_p - number of members of party in power\n",
    "- n_o - number of members of party in opposition\n",
    "- n is the total\n",
    "- m number of bills"
   ]
  },
  {
   "cell_type": "code",
   "execution_count": 2,
   "metadata": {},
   "outputs": [],
   "source": [
    "n_p=210;\n",
    "n_o=200;\n",
    "n=n_p+n_o;\n",
    "m=800;"
   ]
  },
  {
   "cell_type": "markdown",
   "metadata": {},
   "source": [
    "bills are of 4 types:\n",
    "- nonpartisan assigned with prob pr_nonpart\n",
    "- partisan, policy - only party in power wants them (pr_pol is the frewuency of those, among the partisan ones)\n",
    "- partisan, operational, pr_opp: both parties \n",
    "- partisan, trolling, pr_troll: only opposition wants it"
   ]
  },
  {
   "cell_type": "code",
   "execution_count": 3,
   "metadata": {},
   "outputs": [],
   "source": [
    "pr_nonpart=0;\n",
    "pr_pol=.5;\n",
    "pr_opp=.23;\n",
    "pr_troll=0;\n",
    "a=np.zeros([n,m]);\n",
    "avg=np.zeros([n,m]);"
   ]
  },
  {
   "cell_type": "code",
   "execution_count": null,
   "metadata": {},
   "outputs": [],
   "source": []
  },
  {
   "cell_type": "markdown",
   "metadata": {},
   "source": [
    "produce a voting record for one bill:"
   ]
  },
  {
   "cell_type": "code",
   "execution_count": 4,
   "metadata": {},
   "outputs": [],
   "source": [
    "def bill(pr_p,pr_po,pr_op,pr_tr,b_p,b_o,p_sl):\n",
    "    b=np.zeros([b_p+b_o]);\n",
    "    if np.random.rand(1)<pr_nonpart:\n",
    "        for k in range(b_p+b_o):\n",
    "            #b[k]=2*np.random.randint(0,2) -1;\n",
    "            b[k]=2*int(np.random.binomial(1,0.3))-1;\n",
    "    else:\n",
    "        dec = np.random.rand(1)\n",
    "        if dec<pr_po:\n",
    "            for k in np.arange(b_p):\n",
    "                b[k]=2*int(np.random.binomial(1,0.98))-1;\n",
    "            op_frac = np.random.rand(1)\n",
    "            for k in np.arange(b_p+1,b_p+b_o):\n",
    "                if k < b_p+op_frac*b_o:\n",
    "                    b[k]=-1;\n",
    "                else:\n",
    "                    b[k]=1;\n",
    "        elif dec<pr_po+pr_op:\n",
    "            po_frac = 0.75+0.25*np.random.rand(1)\n",
    "            for k in np.arange(b_p):\n",
    "                if k<po_frac*b_p:\n",
    "                    b[k]=1;\n",
    "                else:\n",
    "                    b[k]=-1;\n",
    "            for k in np.arange(b_p+1,b_p+b_o):\n",
    "                b[k]=2*int(np.random.binomial(1,0.02))-1;\n",
    "        elif dec<pr_po+pr_op+pr_tr:\n",
    "            for k in np.arange(b_p):\n",
    "                b[k]=2*int(np.random.binomial(1,0.02))-1;\n",
    "            for k in np.arange(b_p+1,b_p+b_o):\n",
    "                b[k]=2*int(np.random.binomial(1,0.02))-1;\n",
    "        else:\n",
    "            for k in np.arange(b_p):\n",
    "                b[k]=2*int(np.random.binomial(1,.02))-1\n",
    "            op_frac = 0.75+0.25*np.random.rand(1)\n",
    "            for k in np.arange(b_p+1, b_p+b_o):\n",
    "                if k<b_p+op_frac*b_o:\n",
    "                    b[k]=1;\n",
    "                else:\n",
    "                    b[k]=-1;\n",
    "    return(b);"
   ]
  },
  {
   "cell_type": "markdown",
   "metadata": {},
   "source": [
    "first check if it's nonpartisan: then vote for it with probability 50%"
   ]
  },
  {
   "cell_type": "code",
   "execution_count": 5,
   "metadata": {},
   "outputs": [],
   "source": [
    "def bill_avg(pr_p,pr_po,pr_op,pr_tr,b_p,b_o,p_sl):\n",
    "    b=np.zeros([b_p+b_o]);\n",
    "    if np.random.rand(1)<pr_nonpart:\n",
    "        for k in range(b_p+b_o):\n",
    "            b[k]=0.3;\n",
    "    else:\n",
    "        if np.random.rand(1)<pr_po:\n",
    "            for k in np.arange(b_p):\n",
    "                b[k]=2*p_sl-1;\n",
    "            for k in np.arange(b_p+1,b_p+b_o):\n",
    "                b[k]=2*(1-p_sl)-1;\n",
    "        elif np.random.rand(1)<pr_op:\n",
    "            for k in np.arange(b_p):\n",
    "                b[k]=2*0.9-1;\n",
    "            for k in np.arange(b_p+1,b_p+b_o):\n",
    "                b[k]=2*0.9-1;\n",
    "        else:\n",
    "            for k in np.arange(b_p):\n",
    "                b[k]=2*(1-p_sl)-1;\n",
    "            for k in np.arange(b_p+1,b_p+b_o):\n",
    "                b[k]=2*p_sl-1;\n",
    "    return(b);"
   ]
  },
  {
   "cell_type": "markdown",
   "metadata": {},
   "source": [
    "for policy bills, power party voteds with probability p_sl, opposition party woth prob 1-p_sl"
   ]
  },
  {
   "cell_type": "code",
   "execution_count": null,
   "metadata": {},
   "outputs": [],
   "source": []
  },
  {
   "cell_type": "markdown",
   "metadata": {},
   "source": [
    "for household bills, both parties vote for them with prob .7 (should be a parameter!)"
   ]
  },
  {
   "cell_type": "code",
   "execution_count": null,
   "metadata": {},
   "outputs": [],
   "source": []
  },
  {
   "cell_type": "markdown",
   "metadata": {},
   "source": [
    "else, if it's trolling bill, opposition votes for it w prob p_sl, power party 1-p_sl"
   ]
  },
  {
   "cell_type": "code",
   "execution_count": null,
   "metadata": {},
   "outputs": [],
   "source": [
    "    "
   ]
  },
  {
   "cell_type": "code",
   "execution_count": null,
   "metadata": {},
   "outputs": [],
   "source": []
  },
  {
   "cell_type": "markdown",
   "metadata": {},
   "source": [
    "produce m bills, and do svd"
   ]
  },
  {
   "cell_type": "code",
   "execution_count": 6,
   "metadata": {
    "scrolled": false
   },
   "outputs": [
    {
     "name": "stdout",
     "output_type": "stream",
     "text": [
      "2\n",
      "409\n"
     ]
    },
    {
     "data": {
      "image/png": "[encoded data removed]",
      "text/plain": [
       "<Figure size 432x288 with 1 Axes>"
      ]
     },
     "metadata": {
      "needs_background": "light"
     },
     "output_type": "display_data"
    },
    {
     "data": {
      "image/png": "[encoded data removed]",
      "text/plain": [
       "<Figure size 432x288 with 1 Axes>"
      ]
     },
     "metadata": {
      "needs_background": "light"
     },
     "output_type": "display_data"
    }
   ],
   "source": [
    "for l in range(m):\n",
    "    a[:,l]=bill(pr_nonpart,pr_pol,pr_opp,pr_troll,n_p,n_o,.85);\n",
    "    avg[:,l]=bill_avg(pr_nonpart,pr_pol,pr_opp,pr_troll,n_p,n_o,.85);\n",
    "\n",
    "print(np.linalg.matrix_rank(avg))\n",
    "print(np.linalg.matrix_rank(a))\n",
    "[u,s,v]=np.linalg.svd(a);\n",
    "import matplotlib.pyplot as plt\n",
    "\n",
    "passed_indices = []\n",
    "failed_indices = []\n",
    "for i in range(m):\n",
    "    if sum(a[:,i]) > 0:\n",
    "        passed_indices.append(i)\n",
    "    else:\n",
    "        failed_indices.append(i)\n",
    "plt.scatter(v[0,passed_indices], v[1,passed_indices], c='g')\n",
    "plt.scatter(v[0,failed_indices], v[1,failed_indices], c='r')\n",
    "plt.title('Eigenbills')\n",
    "plt.show()\n",
    "#plt.scatter(u[0,:n_p], u[1,:n_p], c='r')\n",
    "#plt.scatter(u[0,n_p:], u[1,n_p:], c='b')\n",
    "#plt.title('Eigenmembers')\n",
    "#plt.show()\n",
    "plt.scatter(u[:n_p,0], u[:n_p,1], c='r')\n",
    "plt.scatter(u[n_p+1:,0], u[n_p+1:,1], c='b')\n",
    "plt.title('Eigenmembers')\n",
    "plt.show()"
   ]
  },
  {
   "cell_type": "code",
   "execution_count": 7,
   "metadata": {},
   "outputs": [
    {
     "data": {
      "image/png": "[encoded data removed]",
      "text/plain": [
       "<Figure size 432x288 with 1 Axes>"
      ]
     },
     "metadata": {
      "needs_background": "light"
     },
     "output_type": "display_data"
    }
   ],
   "source": [
    "#[u,s,v]=np.linalg.svd(a);\n",
    "v_t = np.zeros((2,m))\n",
    "for i in range(m):\n",
    "    v_t[0,i] = sum(a[:n_p,i])\n",
    "    v_t[1,i] = sum(a[n_p+1:,i])\n",
    "\n",
    "passed_indices = []\n",
    "failed_indices = []\n",
    "for i in range(m):\n",
    "    if sum(a[:,i]) > 0:\n",
    "        passed_indices.append(i)\n",
    "    else:\n",
    "        failed_indices.append(i)\n",
    "plt.scatter(v_t[0,passed_indices], v_t[1,passed_indices], c='g')\n",
    "plt.scatter(v_t[0,failed_indices], v_t[1,failed_indices], c='r')\n",
    "plt.title('Eigenbills')\n",
    "plt.show()\n"
   ]
  },
  {
   "cell_type": "code",
   "execution_count": 8,
   "metadata": {},
   "outputs": [],
   "source": [
    "def std_vot_mat(a):\n",
    "    a_sorted = np.copy(a)\n",
    "    [u,s,v]=np.linalg.svd(a);\n",
    "    a1 = 1;\n",
    "    a2 = 0;\n",
    "    b1 = 1;\n",
    "    b2 = 0;\n",
    "    mem_inds = sorted(range(u.shape[0]), key=lambda k: b1*u[k,0]+b2*u[k,1])\n",
    "    bill_inds = sorted(range(v.shape[0]), key=lambda k: a1*v[0,k]+a2*v[1,k])\n",
    "    for i in range(a.shape[0]):\n",
    "        for j in range(a.shape[1]):\n",
    "            a_sorted[i,j] = a[mem_inds[i], bill_inds[j]]\n",
    "    return a_sorted\n",
    "\n",
    "a_sorted = std_vot_mat(a)"
   ]
  },
  {
   "cell_type": "code",
   "execution_count": 9,
   "metadata": {
    "scrolled": true
   },
   "outputs": [
    {
     "data": {
      "image/png": "[encoded data removed]",
      "text/plain": [
       "<Figure size 432x288 with 1 Axes>"
      ]
     },
     "metadata": {
      "needs_background": "light"
     },
     "output_type": "display_data"
    },
    {
     "data": {
      "image/png": "[encoded data removed]",
      "text/plain": [
       "<Figure size 432x288 with 1 Axes>"
      ]
     },
     "metadata": {
      "needs_background": "light"
     },
     "output_type": "display_data"
    }
   ],
   "source": [
    "import matplotlib.pyplot as plt\n",
    "%matplotlib inline\n",
    "'''\n",
    "mem_inds = sorted(range(len(mem)), key=lambda k: mem[k])\n",
    "bill_inds = sorted(range(len(bill_params)), key=lambda k: 10*np.exp(bill_params[k][0])+0.1*bill_params[k][1])\n",
    "a_sorted = np.copy(a)\n",
    "for i in range(a.shape[0]):\n",
    "    for j in range(a.shape[1]):\n",
    "        a_sorted[i,j] = a[mem_inds[i], bill_inds[j]]\n",
    "plt.imshow(a_sorted)\n",
    "plt.show()\n",
    "'''\n",
    "plt.imshow(a)\n",
    "plt.show()\n",
    "plt.imshow(a_sorted)\n",
    "plt.show()"
   ]
  },
  {
   "cell_type": "code",
   "execution_count": 10,
   "metadata": {},
   "outputs": [
    {
     "data": {
      "image/png": "[encoded data removed]",
      "text/plain": [
       "<Figure size 432x288 with 1 Axes>"
      ]
     },
     "metadata": {
      "needs_background": "light"
     },
     "output_type": "display_data"
    }
   ],
   "source": [
    "a = -1*np.ones((2,5))\n",
    "a[0,0]=1\n",
    "a[1,0]=0\n",
    "plt.imshow(a)\n",
    "plt.show()"
   ]
  }
 ],
 "metadata": {
  "kernelspec": {
   "display_name": "Python 3",
   "language": "python",
   "name": "python3"
  },
  "language_info": {
   "codemirror_mode": {
    "name": "ipython",
    "version": 3
   },
   "file_extension": ".py",
   "mimetype": "text/x-python",
   "name": "python",
   "nbconvert_exporter": "python",
   "pygments_lexer": "ipython3",
   "version": "3.6.9"
  }
 },
 "nbformat": 4,
 "nbformat_minor": 5
}
