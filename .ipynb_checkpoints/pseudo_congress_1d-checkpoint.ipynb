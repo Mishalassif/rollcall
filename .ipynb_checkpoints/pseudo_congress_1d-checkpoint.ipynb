{
 "cells": [
  {
   "cell_type": "code",
   "execution_count": 1,
   "metadata": {},
   "outputs": [],
   "source": [
    "import numpy as np"
   ]
  },
  {
   "cell_type": "markdown",
   "metadata": {},
   "source": [
    "parameters:\n",
    "- n_p - number of members of party in power\n",
    "- n_o - number of members of party in opposition\n",
    "- n is the total\n",
    "- m number of bills"
   ]
  },
  {
   "cell_type": "code",
   "execution_count": 2,
   "metadata": {},
   "outputs": [],
   "source": [
    "n_p=105;\n",
    "n_o=95;\n",
    "n=n_p+n_o;\n",
    "m=200;"
   ]
  },
  {
   "cell_type": "markdown",
   "metadata": {},
   "source": [
    "bills are of 4 types:\n",
    "- nonpartisan assigned with prob pr_nonpart\n",
    "- partisan, policy - only party in power wants them (pr_pol is the frewuency of those, among the partisan ones)\n",
    "- partisan, operational, pr_opp: both parties \n",
    "- partisan, trolling, pr_troll: only opposition wants it"
   ]
  },
  {
   "cell_type": "code",
   "execution_count": 3,
   "metadata": {},
   "outputs": [],
   "source": [
    "pr_nonpart=.3;\n",
    "pr_pol=.4;\n",
    "pr_opp=.2;\n",
    "pr_troll=1-pr_pol-pr_opp;"
   ]
  },
  {
   "cell_type": "code",
   "execution_count": 4,
   "metadata": {},
   "outputs": [],
   "source": [
    "a=np.zeros([n,m]);"
   ]
  },
  {
   "cell_type": "markdown",
   "metadata": {},
   "source": [
    "produce a voting record for one bill:"
   ]
  },
  {
   "cell_type": "code",
   "execution_count": 11,
   "metadata": {},
   "outputs": [],
   "source": [
    "def bill(pr_p,pr_po,pr_op,pr_tr,b_p,b_o,p_sl):\n",
    "    b=np.zeros([b_p+b_o]);\n",
    "    if np.random.rand(1)<pr_nonpart:\n",
    "        for k in range(b_p+b_o):\n",
    "            b[k]=2*np.random.randint(0,2) -1;\n",
    "    else:\n",
    "        if np.random.rand(1)<pr_po:\n",
    "            for k in np.arange(b_p):\n",
    "                b[k]=2*int(np.random.binomial(1,p_sl))-1;\n",
    "            for k in np.arange(b_p+1,b_p+b_o):\n",
    "                b[k]=2*int(np.random.binomial(1,1-p_sl))-1;\n",
    "        elif np.random.rand(1)<pr_op:\n",
    "            for k in np.arange(b_p):\n",
    "                b[k]=2*int(np.random.binomial(1,.7))-1;\n",
    "            for k in np.arange(b_p+1,b_p+b_o):\n",
    "                b[k]=2*int(np.random.binomial(1,.7))-1;\n",
    "        else:\n",
    "            for k in np.arange(b_p):\n",
    "                b[k]=2*int(np.random.binomial(1,1-p_sl))-1;\n",
    "            for k in np.arange(b_p+1,b_p+b_o):\n",
    "                b[k]=2*int(np.random.binomial(1,p_sl))-1;\n",
    "    return(b);"
   ]
  },
  {
   "cell_type": "markdown",
   "metadata": {},
   "source": [
    "first check if it's nonpartisan: then vote for it with probability 50%"
   ]
  },
  {
   "cell_type": "code",
   "execution_count": 9,
   "metadata": {},
   "outputs": [
    {
     "ename": "NameError",
     "evalue": "name 'b_p' is not defined",
     "output_type": "error",
     "traceback": [
      "\u001b[0;31m---------------------------------------------------------------------------\u001b[0m",
      "\u001b[0;31mNameError\u001b[0m                                 Traceback (most recent call last)",
      "\u001b[0;32m<ipython-input-9-d18cf9ab4e18>\u001b[0m in \u001b[0;36m<module>\u001b[0;34m\u001b[0m\n\u001b[1;32m      1\u001b[0m \u001b[0;32mif\u001b[0m \u001b[0mnp\u001b[0m\u001b[0;34m.\u001b[0m\u001b[0mrandom\u001b[0m\u001b[0;34m.\u001b[0m\u001b[0mrand\u001b[0m\u001b[0;34m(\u001b[0m\u001b[0;36m1\u001b[0m\u001b[0;34m)\u001b[0m\u001b[0;34m<\u001b[0m\u001b[0mpr_nonpart\u001b[0m\u001b[0;34m:\u001b[0m\u001b[0;34m\u001b[0m\u001b[0;34m\u001b[0m\u001b[0m\n\u001b[0;32m----> 2\u001b[0;31m     \u001b[0;32mfor\u001b[0m \u001b[0mk\u001b[0m \u001b[0;32min\u001b[0m \u001b[0mrange\u001b[0m\u001b[0;34m(\u001b[0m\u001b[0mb_p\u001b[0m\u001b[0;34m+\u001b[0m\u001b[0mb_o\u001b[0m\u001b[0;34m)\u001b[0m\u001b[0;34m:\u001b[0m\u001b[0;34m\u001b[0m\u001b[0;34m\u001b[0m\u001b[0m\n\u001b[0m\u001b[1;32m      3\u001b[0m         \u001b[0mb\u001b[0m\u001b[0;34m[\u001b[0m\u001b[0mk\u001b[0m\u001b[0;34m]\u001b[0m\u001b[0;34m=\u001b[0m\u001b[0;36m2\u001b[0m\u001b[0;34m*\u001b[0m\u001b[0mnp\u001b[0m\u001b[0;34m.\u001b[0m\u001b[0mrandom\u001b[0m\u001b[0;34m.\u001b[0m\u001b[0mrandint\u001b[0m\u001b[0;34m(\u001b[0m\u001b[0;36m0\u001b[0m\u001b[0;34m,\u001b[0m\u001b[0;36m2\u001b[0m\u001b[0;34m)\u001b[0m \u001b[0;34m-\u001b[0m\u001b[0;36m1\u001b[0m\u001b[0;34m;\u001b[0m\u001b[0;34m\u001b[0m\u001b[0;34m\u001b[0m\u001b[0m\n\u001b[1;32m      4\u001b[0m \u001b[0;32melse\u001b[0m\u001b[0;34m:\u001b[0m\u001b[0;34m\u001b[0m\u001b[0;34m\u001b[0m\u001b[0m\n\u001b[1;32m      5\u001b[0m     \u001b[0;32mif\u001b[0m \u001b[0mnp\u001b[0m\u001b[0;34m.\u001b[0m\u001b[0mrandom\u001b[0m\u001b[0;34m.\u001b[0m\u001b[0mrand\u001b[0m\u001b[0;34m(\u001b[0m\u001b[0;36m1\u001b[0m\u001b[0;34m)\u001b[0m\u001b[0;34m<\u001b[0m\u001b[0mpr_po\u001b[0m\u001b[0;34m:\u001b[0m\u001b[0;34m\u001b[0m\u001b[0;34m\u001b[0m\u001b[0m\n",
      "\u001b[0;31mNameError\u001b[0m: name 'b_p' is not defined"
     ]
    }
   ],
   "source": [
    "    if np.random.rand(1)<pr_nonpart:\n",
    "        for k in range(b_p+b_o):\n",
    "            b[k]=2*np.random.randint(0,2) -1;"
   ]
  },
  {
   "cell_type": "markdown",
   "metadata": {},
   "source": [
    "for policy bills, power party voteds with probability p_sl, opposition party woth prob 1-p_sl"
   ]
  },
  {
   "cell_type": "code",
   "execution_count": 8,
   "metadata": {},
   "outputs": [
    {
     "ename": "SyntaxError",
     "evalue": "invalid syntax (<ipython-input-8-9237e82af029>, line 1)",
     "output_type": "error",
     "traceback": [
      "\u001b[0;36m  File \u001b[0;32m\"<ipython-input-8-9237e82af029>\"\u001b[0;36m, line \u001b[0;32m1\u001b[0m\n\u001b[0;31m    else:\u001b[0m\n\u001b[0m       ^\u001b[0m\n\u001b[0;31mSyntaxError\u001b[0m\u001b[0;31m:\u001b[0m invalid syntax\n"
     ]
    }
   ],
   "source": [
    "    else:\n",
    "        if np.random.rand(1)<pr_po:\n",
    "            for k in np.arange(b_p):\n",
    "                b[k]=2*int(np.random.binomial(1,p_sl))-1;\n",
    "            for k in np.arange(b_p+1,b_p+b_o):\n",
    "                b[k]=2*int(np.random.binomial(1,1-p_sl))-1;"
   ]
  },
  {
   "cell_type": "markdown",
   "metadata": {},
   "source": [
    "for household bills, both parties vote for them with prob .7 (should be a parameter!)"
   ]
  },
  {
   "cell_type": "code",
   "execution_count": null,
   "metadata": {},
   "outputs": [],
   "source": [
    "        elif np.random.rand(1)<pr_op:\n",
    "            for k in np.arange(b_p):\n",
    "                b[k]=2*int(np.random.binomial(1,.7))-1;\n",
    "            for k in np.arange(b_p+1,b_p+b_o):\n",
    "                b[k]=2*int(np.random.binomial(1,.7))-1;"
   ]
  },
  {
   "cell_type": "markdown",
   "metadata": {},
   "source": [
    "else, if it's trolling bill, opposition votes for it w prob p_sl, power party 1-p_sl"
   ]
  },
  {
   "cell_type": "code",
   "execution_count": null,
   "metadata": {},
   "outputs": [],
   "source": [
    "        else:\n",
    "            for k in np.arange(b_p):\n",
    "                b[k]=2*int(np.random.binomial(1,1-p_sl))-1;\n",
    "            for k in np.arange(b_p+1,b_p+b_o):\n",
    "                b[k]=2*int(np.random.binomial(1,p_sl))-1;\n",
    "    return(b);\n",
    "    "
   ]
  },
  {
   "cell_type": "code",
   "execution_count": null,
   "metadata": {},
   "outputs": [],
   "source": []
  },
  {
   "cell_type": "markdown",
   "metadata": {},
   "source": [
    "produce m bills, and do svd"
   ]
  },
  {
   "cell_type": "code",
   "execution_count": 12,
   "metadata": {},
   "outputs": [],
   "source": [
    "for l in range(m):\n",
    "    a[:,l]=bill(pr_nonpart,pr_pol,pr_opp,pr_troll,n_p,n_o,.9);\n",
    "    \n",
    "[u,s,v]=np.linalg.svd(a);"
   ]
  },
  {
   "cell_type": "code",
   "execution_count": 15,
   "metadata": {},
   "outputs": [
    {
     "data": {
      "image/png": "[encoded data removed]",
      "text/plain": [
       "<Figure size 432x288 with 1 Axes>"
      ]
     },
     "metadata": {
      "needs_background": "light"
     },
     "output_type": "display_data"
    }
   ],
   "source": [
    "import matplotlib.pyplot as plt\n",
    "\n",
    "plt.scatter(v[0,:], v[1,:])\n",
    "plt.show()"
   ]
  }
 ],
 "metadata": {
  "kernelspec": {
   "display_name": "Python 3",
   "language": "python",
   "name": "python3"
  },
  "language_info": {
   "codemirror_mode": {
    "name": "ipython",
    "version": 3
   },
   "file_extension": ".py",
   "mimetype": "text/x-python",
   "name": "python",
   "nbconvert_exporter": "python",
   "pygments_lexer": "ipython3",
   "version": "3.6.9"
  }
 },
 "nbformat": 4,
 "nbformat_minor": 5
}
