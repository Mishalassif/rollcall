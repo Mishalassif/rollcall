{
 "cells": [
  {
   "cell_type": "code",
   "execution_count": 1,
   "metadata": {},
   "outputs": [],
   "source": [
    "import numpy as np"
   ]
  },
  {
   "cell_type": "markdown",
   "metadata": {},
   "source": [
    "parameters:\n",
    "- n_p - number of members of party in power\n",
    "- n_o - number of members of party in opposition\n",
    "- n is the total\n",
    "- m number of bills"
   ]
  },
  {
   "cell_type": "code",
   "execution_count": 2,
   "metadata": {},
   "outputs": [],
   "source": [
    "n_p=105;\n",
    "n_o=95;\n",
    "n=n_p+n_o;\n",
    "m=200;"
   ]
  },
  {
   "cell_type": "markdown",
   "metadata": {},
   "source": [
    "bills are of 4 types:\n",
    "- nonpartisan assigned with prob pr_nonpart\n",
    "- partisan, policy - only party in power wants them (pr_pol is the frewuency of those, among the partisan ones)\n",
    "- partisan, operational, pr_opp: both parties \n",
    "- partisan, trolling, pr_troll: only opposition wants it"
   ]
  },
  {
   "cell_type": "code",
   "execution_count": 3,
   "metadata": {},
   "outputs": [],
   "source": [
    "pr_nonpart=.3;\n",
    "pr_pol=.4;\n",
    "pr_opp=.2;\n",
    "pr_troll=1-pr_pol-pr_opp;"
   ]
  },
  {
   "cell_type": "code",
   "execution_count": 4,
   "metadata": {},
   "outputs": [],
   "source": [
    "a=np.zeros([n,m]);"
   ]
  },
  {
   "cell_type": "markdown",
   "metadata": {},
   "source": [
    "produce a voting record for one bill:"
   ]
  },
  {
   "cell_type": "code",
   "execution_count": 5,
   "metadata": {},
   "outputs": [],
   "source": [
    "def bill(pr_p,pr_po,pr_op,pr_tr,b_p,b_o,p_sl):\n",
    "    b=np.zeros([b_p+b_o]);\n",
    "    if np.random.rand(1)<pr_nonpart:\n",
    "        for k in range(b_p+b_o):\n",
    "            b[k]=2*np.random.randint(0,2) -1;\n",
    "    else:\n",
    "        if np.random.rand(1)<pr_po:\n",
    "            for k in np.arange(b_p):\n",
    "                b[k]=2*int(np.random.binomial(1,p_sl))-1;\n",
    "            for k in np.arange(b_p+1,b_p+b_o):\n",
    "                b[k]=2*int(np.random.binomial(1,1-p_sl))-1;\n",
    "        elif np.random.rand(1)<pr_op:\n",
    "            for k in np.arange(b_p):\n",
    "                b[k]=2*int(np.random.binomial(1,.7))-1;\n",
    "            for k in np.arange(b_p+1,b_p+b_o):\n",
    "                b[k]=2*int(np.random.binomial(1,.7))-1;\n",
    "        else:\n",
    "            for k in np.arange(b_p):\n",
    "                b[k]=2*int(np.random.binomial(1,1-p_sl))-1;\n",
    "            for k in np.arange(b_p+1,b_p+b_o):\n",
    "                b[k]=2*int(np.random.binomial(1,p_sl))-1;\n",
    "    return(b);"
   ]
  },
  {
   "cell_type": "markdown",
   "metadata": {},
   "source": [
    "first check if it's nonpartisan: then vote for it with probability 50%"
   ]
  },
  {
   "cell_type": "code",
   "execution_count": 9,
   "metadata": {},
   "outputs": [
    {
     "ename": "NameError",
     "evalue": "name 'b_p' is not defined",
     "output_type": "error",
     "traceback": [
      "\u001b[0;31m---------------------------------------------------------------------------\u001b[0m",
      "\u001b[0;31mNameError\u001b[0m                                 Traceback (most recent call last)",
      "\u001b[0;32m<ipython-input-9-d18cf9ab4e18>\u001b[0m in \u001b[0;36m<module>\u001b[0;34m\u001b[0m\n\u001b[1;32m      1\u001b[0m \u001b[0;32mif\u001b[0m \u001b[0mnp\u001b[0m\u001b[0;34m.\u001b[0m\u001b[0mrandom\u001b[0m\u001b[0;34m.\u001b[0m\u001b[0mrand\u001b[0m\u001b[0;34m(\u001b[0m\u001b[0;36m1\u001b[0m\u001b[0;34m)\u001b[0m\u001b[0;34m<\u001b[0m\u001b[0mpr_nonpart\u001b[0m\u001b[0;34m:\u001b[0m\u001b[0;34m\u001b[0m\u001b[0;34m\u001b[0m\u001b[0m\n\u001b[0;32m----> 2\u001b[0;31m     \u001b[0;32mfor\u001b[0m \u001b[0mk\u001b[0m \u001b[0;32min\u001b[0m \u001b[0mrange\u001b[0m\u001b[0;34m(\u001b[0m\u001b[0mb_p\u001b[0m\u001b[0;34m+\u001b[0m\u001b[0mb_o\u001b[0m\u001b[0;34m)\u001b[0m\u001b[0;34m:\u001b[0m\u001b[0;34m\u001b[0m\u001b[0;34m\u001b[0m\u001b[0m\n\u001b[0m\u001b[1;32m      3\u001b[0m         \u001b[0mb\u001b[0m\u001b[0;34m[\u001b[0m\u001b[0mk\u001b[0m\u001b[0;34m]\u001b[0m\u001b[0;34m=\u001b[0m\u001b[0;36m2\u001b[0m\u001b[0;34m*\u001b[0m\u001b[0mnp\u001b[0m\u001b[0;34m.\u001b[0m\u001b[0mrandom\u001b[0m\u001b[0;34m.\u001b[0m\u001b[0mrandint\u001b[0m\u001b[0;34m(\u001b[0m\u001b[0;36m0\u001b[0m\u001b[0;34m,\u001b[0m\u001b[0;36m2\u001b[0m\u001b[0;34m)\u001b[0m \u001b[0;34m-\u001b[0m\u001b[0;36m1\u001b[0m\u001b[0;34m;\u001b[0m\u001b[0;34m\u001b[0m\u001b[0;34m\u001b[0m\u001b[0m\n\u001b[1;32m      4\u001b[0m \u001b[0;32melse\u001b[0m\u001b[0;34m:\u001b[0m\u001b[0;34m\u001b[0m\u001b[0;34m\u001b[0m\u001b[0m\n\u001b[1;32m      5\u001b[0m     \u001b[0;32mif\u001b[0m \u001b[0mnp\u001b[0m\u001b[0;34m.\u001b[0m\u001b[0mrandom\u001b[0m\u001b[0;34m.\u001b[0m\u001b[0mrand\u001b[0m\u001b[0;34m(\u001b[0m\u001b[0;36m1\u001b[0m\u001b[0;34m)\u001b[0m\u001b[0;34m<\u001b[0m\u001b[0mpr_po\u001b[0m\u001b[0;34m:\u001b[0m\u001b[0;34m\u001b[0m\u001b[0;34m\u001b[0m\u001b[0m\n",
      "\u001b[0;31mNameError\u001b[0m: name 'b_p' is not defined"
     ]
    }
   ],
   "source": []
  },
  {
   "cell_type": "markdown",
   "metadata": {},
   "source": [
    "for policy bills, power party voteds with probability p_sl, opposition party woth prob 1-p_sl"
   ]
  },
  {
   "cell_type": "code",
   "execution_count": 8,
   "metadata": {},
   "outputs": [
    {
     "ename": "SyntaxError",
     "evalue": "invalid syntax (<ipython-input-8-9237e82af029>, line 1)",
     "output_type": "error",
     "traceback": [
      "\u001b[0;36m  File \u001b[0;32m\"<ipython-input-8-9237e82af029>\"\u001b[0;36m, line \u001b[0;32m1\u001b[0m\n\u001b[0;31m    else:\u001b[0m\n\u001b[0m       ^\u001b[0m\n\u001b[0;31mSyntaxError\u001b[0m\u001b[0;31m:\u001b[0m invalid syntax\n"
     ]
    }
   ],
   "source": []
  },
  {
   "cell_type": "markdown",
   "metadata": {},
   "source": [
    "for household bills, both parties vote for them with prob .7 (should be a parameter!)"
   ]
  },
  {
   "cell_type": "code",
   "execution_count": null,
   "metadata": {},
   "outputs": [],
   "source": []
  },
  {
   "cell_type": "markdown",
   "metadata": {},
   "source": [
    "else, if it's trolling bill, opposition votes for it w prob p_sl, power party 1-p_sl"
   ]
  },
  {
   "cell_type": "code",
   "execution_count": null,
   "metadata": {},
   "outputs": [],
   "source": []
  },
  {
   "cell_type": "code",
   "execution_count": 16,
   "metadata": {},
   "outputs": [],
   "source": [
    "def bill(pr_p,pr_po,pr_op,pr_tr,b_p,b_o,p_sl):\n",
    "    b=np.zeros([b_p+b_o]);\n",
    "    if np.random.rand(1)<pr_nonpart:\n",
    "        for k in range(b_p+b_o):\n",
    "            b[k]=2*np.random.randint(0,2) -1;\n",
    "    else:\n",
    "        if np.random.rand(1)<pr_po:\n",
    "            for k in np.arange(b_p):\n",
    "                b[k]=2*int(np.random.binomial(1,p_sl[k]))-1;\n",
    "            for k in np.arange(b_p+1,b_p+b_o):\n",
    "                b[k]=2*int(np.random.binomial(1,1-p_sl[k]))-1;\n",
    "        elif np.random.rand(1)<pr_op:\n",
    "            for k in np.arange(b_p):\n",
    "                b[k]=2*int(np.random.binomial(1,.8))-1;\n",
    "            for k in np.arange(b_p+1,b_p+b_o):\n",
    "                b[k]=2*int(np.random.binomial(1,.8))-1;\n",
    "        else:\n",
    "            for k in np.arange(b_p):\n",
    "                b[k]=2*int(np.random.binomial(1,1-p_sl[k]))-1;\n",
    "            for k in np.arange(b_p+1,b_p+b_o):\n",
    "                b[k]=2*int(np.random.binomial(1,p_sl[k]))-1;\n",
    "    return(b);"
   ]
  },
  {
   "cell_type": "code",
   "execution_count": 11,
   "metadata": {},
   "outputs": [
    {
     "name": "stdout",
     "output_type": "stream",
     "text": [
      "(200,)\n",
      "[0.84719916 0.76390023 0.97590009 0.9504843  0.92803787 0.89905713\n",
      " 0.85065519 0.71818534 0.70250411 0.78539669 0.96641422 0.90721565\n",
      " 0.80205612 0.95877741 0.8970649  0.83747622 0.76159984 0.91316121\n",
      " 0.70618433 0.86553931 0.99168174 0.77020656 0.90431477 0.92449303\n",
      " 0.70498193 0.73799396 0.91256781 0.92349282 0.78770082 0.8755618\n",
      " 0.95554902 0.83745283 0.81293716 0.76961142 0.78264445 0.88456159\n",
      " 0.98520881 0.86404787 0.71831359 0.9293166  0.87864528 0.87369901\n",
      " 0.80412713 0.7473542  0.92078222 0.81662076 0.84679196 0.85650215\n",
      " 0.8853723  0.92493114 0.94526693 0.81018071 0.76496074 0.77386073\n",
      " 0.75591848 0.97550578 0.73940941 0.99366394 0.72837987 0.78293839\n",
      " 0.76613637 0.7585937  0.88904118 0.92545427 0.86660972 0.98877156\n",
      " 0.8479648  0.78805366 0.90753631 0.79089691 0.96580078 0.78296635\n",
      " 0.99331843 0.92540367 0.71339453 0.78392676 0.75257421 0.95063193\n",
      " 0.96649572 0.75308176 0.84204678 0.85273085 0.75632759 0.88580112\n",
      " 0.78459436 0.86906872 0.99403206 0.71531277 0.99851717 0.86861193\n",
      " 0.91702965 0.79286652 0.78377774 0.73687693 0.86350737 0.82632206\n",
      " 0.9117182  0.73408727 0.75499218 0.88961595 0.96323107 0.85200767\n",
      " 0.88049553 0.95201692 0.71280188 0.90702058 0.73968435 0.87369207\n",
      " 0.8938481  0.82649607 0.8147116  0.92268051 0.88367333 0.94628329\n",
      " 0.77351393 0.70990648 0.75944272 0.99363245 0.72782111 0.87795785\n",
      " 0.82043593 0.70550435 0.79639672 0.93448654 0.87686719 0.87018908\n",
      " 0.99297078 0.8253991  0.85041947 0.82026099 0.98753286 0.97934579\n",
      " 0.98837894 0.88018735 0.77549318 0.97185122 0.76381744 0.99248303\n",
      " 0.9422944  0.81672399 0.93501745 0.96605085 0.7777758  0.82078482\n",
      " 0.90204948 0.71794893 0.78681472 0.71493188 0.85599697 0.897293\n",
      " 0.70327266 0.85197905 0.97564271 0.98668156 0.87826582 0.94328186\n",
      " 0.79678143 0.72572947 0.98364669 0.97158933 0.99216735 0.92753466\n",
      " 0.88731029 0.95110589 0.97386414 0.8799155  0.8144169  0.73527108\n",
      " 0.90040456 0.8286569  0.73279069 0.7882876  0.93145402 0.77637839\n",
      " 0.73298    0.85775485 0.85216512 0.763913   0.708368   0.76847537\n",
      " 0.74094391 0.90713233 0.88794482 0.85154113 0.85833546 0.74030975\n",
      " 0.83134115 0.91681533 0.85705447 0.92913754 0.91690189 0.95697176\n",
      " 0.94244353 0.87097713 0.83227476 0.76537346 0.99370199 0.93693433\n",
      " 0.90762344 0.74893867]\n"
     ]
    }
   ],
   "source": [
    "p_sl = np.random.rand(n)\n",
    "p_sl = (1-p_sl)*0.7 + p_sl\n",
    "print(p_sl.shape)\n",
    "print(p_sl)"
   ]
  },
  {
   "cell_type": "markdown",
   "metadata": {},
   "source": [
    "produce m bills, and do svd"
   ]
  },
  {
   "cell_type": "code",
   "execution_count": 17,
   "metadata": {},
   "outputs": [],
   "source": [
    "for l in range(m):\n",
    "    a[:,l]=bill(pr_nonpart,pr_pol,pr_opp,pr_troll,n_p,n_o,p_sl);\n",
    "    \n",
    "[u,s,v]=np.linalg.svd(a);"
   ]
  },
  {
   "cell_type": "code",
   "execution_count": 14,
   "metadata": {},
   "outputs": [],
   "source": []
  },
  {
   "cell_type": "code",
   "execution_count": 35,
   "metadata": {
    "scrolled": false
   },
   "outputs": [
    {
     "name": "stdout",
     "output_type": "stream",
     "text": [
      "(200, 200)\n"
     ]
    }
   ],
   "source": [
    "print(a.shape)"
   ]
  },
  {
   "cell_type": "code",
   "execution_count": 18,
   "metadata": {},
   "outputs": [
    {
     "data": {
      "image/png": "[encoded data removed]",
      "text/plain": [
       "<Figure size 432x288 with 1 Axes>"
      ]
     },
     "metadata": {
      "needs_background": "light"
     },
     "output_type": "display_data"
    }
   ],
   "source": [
    "import matplotlib.pyplot as plt\n",
    "\n",
    "plt.scatter(v[0,:], v[1,:])\n",
    "plt.show()"
   ]
  },
  {
   "cell_type": "code",
   "execution_count": 19,
   "metadata": {},
   "outputs": [
    {
     "data": {
      "image/png": "[encoded data removed]",
      "text/plain": [
       "<Figure size 432x288 with 1 Axes>"
      ]
     },
     "metadata": {
      "needs_background": "light"
     },
     "output_type": "display_data"
    }
   ],
   "source": [
    "plt.scatter(u[:,0], u[:,1])\n",
    "plt.show()"
   ]
  }
 ],
 "metadata": {
  "kernelspec": {
   "display_name": "Python 3",
   "language": "python",
   "name": "python3"
  },
  "language_info": {
   "codemirror_mode": {
    "name": "ipython",
    "version": 3
   },
   "file_extension": ".py",
   "mimetype": "text/x-python",
   "name": "python",
   "nbconvert_exporter": "python",
   "pygments_lexer": "ipython3",
   "version": "3.6.9"
  }
 },
 "nbformat": 4,
 "nbformat_minor": 5
}
